{
 "cells": [
  {
   "cell_type": "markdown",
   "metadata": {},
   "source": [
    "I'm using the conda 3.12 environment when it's running locally.  I had to manually install the following.\n",
    "\n",
    "```sh\n",
    "conda env list\n",
    "conda activate py3.12\n",
    "conda install -c conda-forge python-dotenv\n",
    "conda install pillow\n",
    "pip install openai==1.1.1\n",
    "conda install requests\n",
    "```\n",
    "\n",
    "However, when using Github codespace, conda is not working, but venv is, so the above is not necessary when working in codespace.\n"
   ]
  },
  {
   "cell_type": "code",
   "execution_count": null,
   "metadata": {},
   "outputs": [],
   "source": [
    "import os\n",
    "api_key = os.getenv('OPENAI_API_KEY')"
   ]
  },
  {
   "cell_type": "code",
   "execution_count": null,
   "metadata": {},
   "outputs": [],
   "source": [
    "import base64\n",
    "import time\n",
    "import openai\n",
    "import os\n",
    "import requests\n",
    "import json"
   ]
  },
  {
   "cell_type": "code",
   "execution_count": 3,
   "metadata": {},
   "outputs": [],
   "source": [
    "import openai\n",
    "from openai import OpenAI\n",
    "\n",
    "client = OpenAI(api_key=api_key)"
   ]
  },
  {
   "cell_type": "markdown",
   "metadata": {},
   "source": [
    "GPT-4 Turbo is our latest generation model. It’s more capable, has an updated knowledge cutoff of April 2023 and introduces a 128k context window (the equivalent of 300 pages of text in a single prompt). The model is also 3X cheaper for input tokens and 2X cheaper for output tokens compared to the original GPT-4 model. The maximum number of output tokens for this model is 4096."
   ]
  },
  {
   "cell_type": "code",
   "execution_count": null,
   "metadata": {},
   "outputs": [],
   "source": [
    "import openai\n",
    "from openai import OpenAI\n",
    "\n",
    "client = OpenAI(api_key=api_key)"
   ]
  },
  {
   "cell_type": "code",
   "execution_count": 6,
   "metadata": {},
   "outputs": [
    {
     "name": "stdout",
     "output_type": "stream",
     "text": [
      "Several significant events took place in March 2021 across different sectors. Here's an overview of some key happenings:\n",
      "\n",
      "1. **COVID-19 Pandemic**:\n",
      "   - Vaccine rollout accelerated in many countries, with several vaccines, including those from Pfizer-BioNTech, Moderna, and AstraZeneca, being administered.\n",
      "   - The AstraZeneca vaccine faced scrutiny and temporary suspension by several European countries due to reports of blood clots in some recipients.\n",
      "\n",
      "2. **Suez Canal Obstruction**:\n",
      "   - On March 23, the Ever Given, a massive container ship, became lodged across the Suez Canal, one of the world's most crucial waterways for maritime trade. This blockage disrupted global shipping for several days, emphasizing the vulnerability of global trade networks.\n",
      "\n",
      "3. **Politics**:\n",
      "   - The United States passed the American Rescue Plan Act, a $1.9 trillion economic stimulus bill aimed at helping the country recover from the impact of the COVID-19 pandemic.\n",
      "   - Protests and unrest continued in Myanmar following the military coup on February 1, 2021, which ousted the elected government led by Aung San Suu Kyi.\n",
      "   - Israeli legislative election was held on March 23, 2021, it was the fourth election within two years, as the country's political system struggled to produce a stable governing coalition.\n",
      "\n",
      "4. **Sports**:\n",
      "   - The Tokyo 2020 Olympic torch relay began on March 25, starting in Fukushima, Japan, despite uncertainties due to the COVID-19 pandemic.\n",
      "\n",
      "5. **Technology**:\n",
      "   - NFTs (Non-Fungible Tokens) saw a surge in popularity with digital artworks and collectibles being sold for high prices, highlighting a new trend in digital asset ownership and trade.\n",
      "\n",
      "6. **Climate and Environment**:\n",
      "   - A series of severe weather events occurred, including flash floods and landslides in Indonesia, adding to the global climate crisis concerns.\n",
      "\n",
      "7. **Entertainment**:\n",
      "   - The 63rd Annual Grammy Awards took place on March 14, honoring musical artists across various categories. Beyoncé made history by becoming the most awarded female artist in Grammy history.\n",
      "\n",
      "8. **Space Exploration**:\n",
      "   - NASA's Perseverance rover continued its exploration of Mars after its successful landing in February, sending back high-quality images and data from the Martian surface.\n",
      "\n",
      "These events are just a snapshot of the many developments that occurred throughout March 2021. It was a month marked by ongoing challenges due to the COVID-19 pandemic and significant political, economic, and environmental events around the globe.\n"
     ]
    }
   ],
   "source": [
    "completion = client.chat.completions.create(\n",
    "    messages=[\n",
    "        {\n",
    "            \"role\": \"user\",\n",
    "            \"content\": \"What are some of the key events that happened in March 2021?\",\n",
    "        }\n",
    "    ],\n",
    "    model=\"gpt-4-1106-preview\",\n",
    ")\n",
    "\n",
    "print(completion.choices[0].message.content)"
   ]
  },
  {
   "cell_type": "code",
   "execution_count": null,
   "metadata": {},
   "outputs": [],
   "source": [
    "completion = client.chat.completions.create(\n",
    "    messages=[\n",
    "        {\n",
    "            \"role\": \"user\",\n",
    "            \"content\": \"What are some of the key events that happened Janurary 2023 for New Zealand Prime Minister Jacinda Ardern?\",\n",
    "        }\n",
    "    ],\n",
    "    model=\"gpt-3.5-turbo-1106\",\n",
    ")"
   ]
  },
  {
   "cell_type": "code",
   "execution_count": 8,
   "metadata": {},
   "outputs": [
    {
     "name": "stdout",
     "output_type": "stream",
     "text": [
      "1. January 5, 2023: Prime Minister Jacinda Ardern announces plans for a major infrastructure initiative aimed at improving transportation and communications across New Zealand.\n",
      "\n",
      "2. January 12, 2023: Ardern meets with leaders from Pacific Island nations to discuss regional security and economic cooperation.\n",
      "\n",
      "3. January 19, 2023: Ardern hosts a summit on climate change, highlighting New Zealand's commitment to reducing carbon emissions and promoting renewable energy.\n",
      "\n",
      "4. January 25, 2023: Ardern visits areas affected by recent flooding and announces government assistance for affected communities.\n",
      "\n",
      "5. January 31, 2023: Ardern announces a new initiative to address mental health issues in New Zealand, including increased funding for mental health services and education programs.\n"
     ]
    }
   ],
   "source": [
    "model4 = \"gpt-4-1106-preview\"\n",
    "model3 = \"gpt-3.5-turbo-1106\"\n",
    "\n",
    "completion = client.chat.completions.create(\n",
    "    messages=[\n",
    "        {\n",
    "            \"role\": \"user\",\n",
    "            \"content\": \"What are some of the key events that happened Janurary 2023 for New Zealand Prime Minister Jacinda Ardern?\",\n",
    "        }\n",
    "    ],\n",
    "    model=model3,\n",
    ")\n",
    "\n",
    "print(completion.choices[0].message.content)\n"
   ]
  },
  {
   "cell_type": "markdown",
   "metadata": {},
   "source": [
    "JSON Mode\n",
    "\n",
    "By setting response_format: { type: \"json_object\" } when calling gpt-4-visual-preview or gpt-3.5-turbo, these models will constrain their output to generate strings that parse into valid JSON. "
   ]
  },
  {
   "cell_type": "code",
   "execution_count": null,
   "metadata": {},
   "outputs": [],
   "source": [
    "completion = client.chat.completions.create(\n",
    "  model=\"gpt-3.5-turbo-1106\",\n",
    "  response_format={\"type\": \"json_object\"},\n",
    "  messages=[\n",
    "    {\"role\": \"system\", \"content\": \"You are a helpful programmer who always returns your answer in JSON.\"},\n",
    "    {\"role\": \"user\", \"content\": \"give me a list of 5 things for grocery shopping. call the list 'groceries'\"}\n",
    "  ]\n",
    ")\n",
    "\n",
    "print(completion.choices[0].message)\n",
    "print(completion)\n"
   ]
  }
 ],
 "metadata": {
  "kernelspec": {
   "display_name": "Python 3",
   "language": "python",
   "name": "python3"
  },
  "language_info": {
   "codemirror_mode": {
    "name": "ipython",
    "version": 3
   },
   "file_extension": ".py",
   "mimetype": "text/x-python",
   "name": "python",
   "nbconvert_exporter": "python",
   "pygments_lexer": "ipython3",
   "version": "3.10.10"
  }
 },
 "nbformat": 4,
 "nbformat_minor": 2
}
