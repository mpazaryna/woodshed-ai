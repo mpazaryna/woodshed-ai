{
 "cells": [
  {
   "cell_type": "markdown",
   "metadata": {},
   "source": [
    "# GPT-4o\n",
    "\n",
    "A multimodal model.  \n",
    "\n",
    "- Image Processing\n",
    "- Summarization: Video\n",
    "- Summarization: Audio\n",
    "- Summarization: Audio + Visual\n",
    "- Q&A: Visual\n",
    "- Q&A: Audio\n",
    "- Q&A: Visual + Audio"
   ]
  },
  {
   "cell_type": "code",
   "execution_count": 1,
   "metadata": {},
   "outputs": [],
   "source": [
    "import base64\n",
    "import time\n",
    "import openai\n",
    "import os\n",
    "import requests\n",
    "import json"
   ]
  },
  {
   "cell_type": "code",
   "execution_count": 2,
   "metadata": {},
   "outputs": [],
   "source": [
    "import openai\n",
    "from openai import OpenAI\n",
    "\n",
    "client = OpenAI()"
   ]
  },
  {
   "cell_type": "code",
   "execution_count": 3,
   "metadata": {},
   "outputs": [],
   "source": [
    "MODEL=\"gpt-4o\""
   ]
  },
  {
   "cell_type": "code",
   "execution_count": 4,
   "metadata": {},
   "outputs": [
    {
     "name": "stdout",
     "output_type": "stream",
     "text": [
      "Claro, en marzo de 2021 se produjeron varios eventos significativos. Aquí algunos de los más relevantes:\n",
      "\n",
      "1. **Pandemia de COVID-19**: Continuaron los esfuerzos globales para contener la pandemia de COVID-19, incluyendo la distribución masiva de vacunas en muchos países. La vacunación avanzó en diversas partes del mundo, aunque había grandes diferencias en la disponibilidad de vacunas entre países ricos y pobres.\n",
      "\n",
      "2. **Crisis política en Myanmar**: La crisis política en Myanmar (Birmania) continuó después del golpe de estado militar del 1 de febrero de 2021. En marzo, se produjeron manifestaciones masivas y la represión por parte del ejército fue intensa, causando numerosas muertes y detenciones.\n",
      "\n",
      "3. **Ever Given en el Canal de Suez**: El 23 de marzo, el buque portacontenedores Ever Given encalló en el Canal de Suez, bloqueando una de las principales rutas marítimas del mundo. Este incidente interrumpió el tráfico marítimo global durante seis días y tuvo un gran impacto en la economía mundial.\n",
      "\n",
      "4. **Cambio climático y desastres naturales**: Hubo varios eventos relacionados con el cambio climático y desastres naturales en diferentes partes del mundo, incluyendo inundaciones y tormentas severas.\n",
      "\n",
      "5. **Política en EE. UU.**: En Estados Unidos, la administración de Joe Biden continuó implementando sus políticas con respecto a la recuperación económica y la lucha contra la pandemia. En marzo, el presidente Biden firmó el Plan de Rescate Estadounidense, un paquete de estímulo económico de $1.9 billones de dólares.\n",
      "\n",
      "6. **Día Internacional de la Mujer**: El 8 de marzo se celebró el Día Internacional de la Mujer con marchas y eventos en todo el mundo para defender los derechos de las mujeres y promover la igualdad de género.\n",
      "\n",
      "Estos son solo algunos de los eventos que ocurrieron en marzo de 2021. Cada uno de ellos tuvo un impacto significativo tanto a nivel local como global.\n"
     ]
    }
   ],
   "source": [
    "completion = client.chat.completions.create(\n",
    "    messages=[\n",
    "        {\"role\": \"system\", \"content\": \"You are a helpful assistant that knows a lot about history. Please respond in Markdown and Spanish.\"},\n",
    "        {\"role\": \"user\", \"content\": \"What are some of the key events that happened in March 2021?\"}\n",
    "    ],\n",
    "    model=MODEL,\n",
    ")\n",
    "\n",
    "print(completion.choices[0].message.content)"
   ]
  },
  {
   "cell_type": "code",
   "execution_count": 5,
   "metadata": {},
   "outputs": [
    {
     "name": "stdout",
     "output_type": "stream",
     "text": [
      "To find the area of the triangle, we can use Heron's formula. Heron's formula states that the area of a triangle with sides of length \\(a\\), \\(b\\), and \\(c\\) is:\n",
      "\n",
      "\\[ \\text{Area} = \\sqrt{s(s-a)(s-b)(s-c)} \\]\n",
      "\n",
      "where \\(s\\) is the semi-perimeter of the triangle:\n",
      "\n",
      "\\[ s = \\frac{a + b + c}{2} \\]\n",
      "\n",
      "In this triangle, the sides are \\(a = 5\\), \\(b = 6\\), and \\(c = 9\\).\n",
      "\n",
      "First, calculate the semi-perimeter \\(s\\):\n",
      "\n",
      "\\[ s = \\frac{5 + 6 + 9}{2} = \\frac{20}{2} = 10 \\]\n",
      "\n",
      "Now, apply Heron's formula:\n",
      "\n",
      "\\[ \\text{Area} = \\sqrt{10(10-5)(10-6)(10-9)} \\]\n",
      "\\[ \\text{Area} = \\sqrt{10 \\cdot 5 \\cdot 4 \\cdot 1} \\]\n",
      "\\[ \\text{Area} = \\sqrt{200} \\]\n",
      "\\[ \\text{Area} = 10\\sqrt{2} \\]\n",
      "\n",
      "So, the area of the triangle is \\(10\\sqrt{2}\\) square units.\n"
     ]
    }
   ],
   "source": [
    "# Image Processing: URL\n",
    "response = client.chat.completions.create(\n",
    "    model=MODEL,\n",
    "    messages=[\n",
    "        {\"role\": \"system\", \"content\": \"You are a helpful assistant that responds in Markdown. Help me with my math homework!\"},\n",
    "        {\"role\": \"user\", \"content\": [\n",
    "            {\"type\": \"text\", \"text\": \"What's the area of the triangle?\"},\n",
    "            {\"type\": \"image_url\", \"image_url\": {\"url\": \"https://upload.wikimedia.org/wikipedia/commons/e/e2/The_Algebra_of_Mohammed_Ben_Musa_-_page_82b.png\"}\n",
    "            }\n",
    "        ]}\n",
    "    ],\n",
    "    temperature=0.0,\n",
    ")\n",
    "\n",
    "print(response.choices[0].message.content)"
   ]
  }
 ],
 "metadata": {
  "kernelspec": {
   "display_name": "Python 3",
   "language": "python",
   "name": "python3"
  },
  "language_info": {
   "codemirror_mode": {
    "name": "ipython",
    "version": 3
   },
   "file_extension": ".py",
   "mimetype": "text/x-python",
   "name": "python",
   "nbconvert_exporter": "python",
   "pygments_lexer": "ipython3",
   "version": "3.10.10"
  }
 },
 "nbformat": 4,
 "nbformat_minor": 2
}
