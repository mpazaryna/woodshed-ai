{
 "cells": [
  {
   "cell_type": "markdown",
   "metadata": {},
   "source": [
    "# Summarize URL\n",
    "\n",
    "Using langchain to summarize the contents of a url."
   ]
  },
  {
   "cell_type": "code",
   "execution_count": 1,
   "metadata": {},
   "outputs": [],
   "source": [
    "import os\n",
    "import dotenv\n",
    "import openai\n",
    "\n",
    "dotenv_path = dotenv.find_dotenv()\n",
    "dotenv.load_dotenv(dotenv_path)\n",
    "openai.api_key = os.getenv(\"OPENAI_API_KEY\")"
   ]
  },
  {
   "cell_type": "code",
   "execution_count": 2,
   "metadata": {},
   "outputs": [],
   "source": [
    "from langchain.chains.summarize import load_summarize_chain\n",
    "from langchain.chat_models import ChatOpenAI\n",
    "from langchain.document_loaders import WebBaseLoader\n",
    "from langchain.output_parsers import ResponseSchema"
   ]
  },
  {
   "cell_type": "code",
   "execution_count": 4,
   "metadata": {},
   "outputs": [],
   "source": [
    "def run_call_summarize(url):\n",
    "    \"\"\"\n",
    "    Given a URL, this function fetches its content, summarizes it using a chain based on the GPT model,\n",
    "    and returns the summarized version.\n",
    "\n",
    "    Args:\n",
    "        url (str): The URL of the web page/document to be summarized.\n",
    "\n",
    "    Returns:\n",
    "        str: Summarized content of the provided URL.\n",
    "    \"\"\"\n",
    "\n",
    "    # Create an instance of the WebBaseLoader with the provided URL.\n",
    "    loader = WebBaseLoader(url)\n",
    "\n",
    "    # Load the document/content from the provided URL.\n",
    "    docs = loader.load()\n",
    "\n",
    "    # Instantiate the ChatOpenAI model.\n",
    "    llm = ChatOpenAI(temperature=0, model_name=\"gpt-3.5-turbo-16k\")\n",
    "\n",
    "    # Load the summarization chain.\n",
    "    # The type of chain being used is specified as \"stuff\" (exact functionality would depend on library specifics).\n",
    "    chain = load_summarize_chain(llm, chain_type=\"stuff\")\n",
    "    \n",
    "    # Run the summarization chain on the loaded documents and return the summarized result.\n",
    "    summary = chain.run(docs)\n",
    "\n",
    "    return summary\n"
   ]
  },
  {
   "cell_type": "code",
   "execution_count": 5,
   "metadata": {},
   "outputs": [
    {
     "name": "stderr",
     "output_type": "stream",
     "text": [
      "/home/zeus/miniconda3/envs/cloudspace/lib/python3.10/site-packages/langchain_core/_api/deprecation.py:119: LangChainDeprecationWarning: The class `ChatOpenAI` was deprecated in LangChain 0.0.10 and will be removed in 0.2.0. An updated version of the class exists in the langchain-openai package and should be used instead. To use it run `pip install -U langchain-openai` and import as `from langchain_openai import ChatOpenAI`.\n",
      "  warn_deprecated(\n",
      "/home/zeus/miniconda3/envs/cloudspace/lib/python3.10/site-packages/langchain_core/_api/deprecation.py:119: LangChainDeprecationWarning: The method `Chain.run` was deprecated in langchain 0.1.0 and will be removed in 0.2.0. Use invoke instead.\n",
      "  warn_deprecated(\n"
     ]
    }
   ],
   "source": [
    "url_to_summarize = \"https://austinkleon.com/2010/01/31/logbook/\"\n",
    "response_openai = run_call_summarize(url_to_summarize)"
   ]
  },
  {
   "cell_type": "code",
   "execution_count": 6,
   "metadata": {},
   "outputs": [
    {
     "name": "stdout",
     "output_type": "stream",
     "text": [
      "The author discusses the benefits of keeping a logbook, which is a simple daily planner used to record the details of one's day. The logbook is not a diary or journal, but rather a book of lists that includes facts about who the author met, what they did, and where they went. The author finds that keeping a logbook helps to capture the passing of time and provides a record of events that may seem mundane at the time but become more significant over time. The author also mentions the value of logbooks as family artifacts for future generations.\n"
     ]
    }
   ],
   "source": [
    "print(response_openai)"
   ]
  },
  {
   "cell_type": "markdown",
   "metadata": {},
   "source": []
  }
 ],
 "metadata": {
  "kernelspec": {
   "display_name": "autogen",
   "language": "python",
   "name": "python3"
  },
  "language_info": {
   "codemirror_mode": {
    "name": "ipython",
    "version": 3
   },
   "file_extension": ".py",
   "mimetype": "text/x-python",
   "name": "python",
   "nbconvert_exporter": "python",
   "pygments_lexer": "ipython3",
   "version": "3.10.10"
  }
 },
 "nbformat": 4,
 "nbformat_minor": 2
}
