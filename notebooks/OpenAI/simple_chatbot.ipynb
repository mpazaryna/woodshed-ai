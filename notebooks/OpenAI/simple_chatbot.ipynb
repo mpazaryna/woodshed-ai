{
 "cells": [
  {
   "cell_type": "markdown",
   "metadata": {},
   "source": [
    "# Simple Chatbot\n",
    "\n",
    "This is from Dan's repo, https://replit.com/@DanShipper1/Simple-Chatbot?v=1#main.py"
   ]
  },
  {
   "cell_type": "code",
   "execution_count": 4,
   "metadata": {},
   "outputs": [],
   "source": [
    "import os\n",
    "\n",
    "import dotenv\n",
    "import openai\n",
    "\n",
    "# Load your API key from an environment variable or secret management service\n",
    "openai.api_key = os.getenv(\"OPENAI_API_KEY\")\n",
    "\n",
    "# Get the path to the .env file\n",
    "dotenv_path = dotenv.find_dotenv()\n",
    "\n",
    "# Load the .env file\n",
    "dotenv.load_dotenv(dotenv_path)\n",
    "\n",
    "# Load your API key from an environment variable or secret management service\n",
    "openai.api_key = os.getenv(\"OPENAI_API_KEY\")"
   ]
  },
  {
   "cell_type": "code",
   "execution_count": 7,
   "metadata": {},
   "outputs": [
    {
     "name": "stdout",
     "output_type": "stream",
     "text": [
      "Assistant: Coffee is a popular and widely consumed hot or cold beverage made from roasted coffee beans. It is usually brewed by steeping the ground coffee beans in water to extract the flavors and aromas. Coffee can be enjoyed black or with various additions like milk, cream, or sugar. It contains caffeine, a natural stimulant that can help increase alertness and reduce fatigue. Coffee is enjoyed by people around the world for its rich flavor and invigorating effects.\n"
     ]
    }
   ],
   "source": [
    "# Start the conversation with a system message \n",
    "messages = [\n",
    "    {\"role\": \"system\", \"content\": \"You are a helpful assistant.\"},\n",
    "]\n",
    "\n",
    "# Get user input\n",
    "user_message = input(\"User: \")\n",
    "\n",
    "# Append user message to conversation\n",
    "messages.append({\"role\": \"user\", \"content\": user_message})\n",
    "\n",
    "# Call OpenAI\n",
    "response = openai.ChatCompletion.create(model=\"gpt-3.5-turbo\", messages=messages)\n",
    "\n",
    "# Get the message from the response\n",
    "assistant_message = response[\"choices\"][0][\"message\"][\"content\"]\n",
    "\n",
    "# print the assistant message\n",
    "print(f\"Assistant: {assistant_message}\")"
   ]
  }
 ],
 "metadata": {
  "kernelspec": {
   "display_name": "autogen",
   "language": "python",
   "name": "python3"
  },
  "language_info": {
   "codemirror_mode": {
    "name": "ipython",
    "version": 3
   },
   "file_extension": ".py",
   "mimetype": "text/x-python",
   "name": "python",
   "nbconvert_exporter": "python",
   "pygments_lexer": "ipython3",
   "version": "3.11.4"
  }
 },
 "nbformat": 4,
 "nbformat_minor": 2
}
