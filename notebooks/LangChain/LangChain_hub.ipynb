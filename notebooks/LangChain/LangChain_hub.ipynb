{
 "cells": [
  {
   "cell_type": "code",
   "execution_count": 1,
   "metadata": {},
   "outputs": [],
   "source": [
    "# Langchain Libraires\n",
    "from langchain.llms import OpenAI\n",
    "from langchain.chat_models import ChatOpenAI\n",
    "from langchain import PromptTemplate\n",
    "from langchain import PromptTemplate, LLMChain"
   ]
  },
  {
   "cell_type": "code",
   "execution_count": 2,
   "metadata": {},
   "outputs": [
    {
     "name": "stderr",
     "output_type": "stream",
     "text": [
      "/home/zeus/miniconda3/envs/cloudspace/lib/python3.10/site-packages/langchain_core/_api/deprecation.py:119: LangChainDeprecationWarning: The class `ChatOpenAI` was deprecated in LangChain 0.0.10 and will be removed in 0.2.0. An updated version of the class exists in the langchain-openai package and should be used instead. To use it run `pip install -U langchain-openai` and import as `from langchain_openai import ChatOpenAI`.\n",
      "  warn_deprecated(\n"
     ]
    }
   ],
   "source": [
    "from langchain import hub\n",
    "prompt = hub.pull(\"hardkothari/blog-generator\") # find it from the hub\n",
    "\n",
    "#using OpenAI model \n",
    "model = ChatOpenAI()"
   ]
  },
  {
   "cell_type": "code",
   "execution_count": 3,
   "metadata": {},
   "outputs": [
    {
     "name": "stdout",
     "output_type": "stream",
     "text": [
      "['target_audience', 'text']\n"
     ]
    }
   ],
   "source": [
    "runnable = prompt | model\n",
    "\n",
    "print(runnable.first.input_variables)"
   ]
  },
  {
   "cell_type": "code",
   "execution_count": 4,
   "metadata": {},
   "outputs": [],
   "source": [
    "text=\"\"\"What is regenerative agriculture?\n",
    "Regenerative agriculture (RA) is an outcome-based food production system that nurtures and restores soil health, protects the climate and water resources and biodiversity, and enhances farms' productivity and profitability.\n",
    "It comprises a range of techniques, supported by innovative technologies, which can combat the challenges cause by climate change by restoring the health of soil and protecting the land’s ecosystem.  \n",
    "\n",
    "Regenerative agriculture is an evolution of conventional agriculture, reducing the use of water and other inputs, and preventing land degradation and deforestation. It protects and improves soil, biodiversity, climate resilience and water resources while making farming more productive and profitable. \n",
    "\n",
    "Goals of regenerative agriculture\n",
    "Produce enough nutritious food for the world’s population\n",
    "Help mitigate climate change by sequestering carbon in soil and reducing greenhouse gas emissions\n",
    "Restore threatened biodiversity and enhance natural habitats\n",
    "Prevent further deforestation and grassland conversion by increasing productivity on existing farmland\n",
    "Enhance farmer livelihoods.\"\"\""
   ]
  },
  {
   "cell_type": "code",
   "execution_count": 5,
   "metadata": {},
   "outputs": [
    {
     "name": "stdout",
     "output_type": "stream",
     "text": [
      "Title: Harnessing the Power of Regenerative Agriculture: A Sustainable Approach for Farmers and Investors\n",
      "\n",
      "Introduction:\n",
      "In the realm of modern agriculture, a transformative approach known as regenerative agriculture is gaining traction for its profound impact on soil health, climate resilience, and overall sustainability. This innovative farming system goes beyond conventional methods to not only enhance productivity but also address pressing environmental challenges. For farmers and investors alike, understanding the essence of regenerative agriculture can unlock a wealth of opportunities for both profit and planet.\n",
      "\n",
      "Understanding Regenerative Agriculture:\n",
      "Regenerative agriculture is more than just a farming practice; it's a holistic approach that aims to nurture and restore soil health, safeguard biodiversity, protect water resources, and mitigate climate change. By utilizing a diverse set of techniques and leveraging cutting-edge technologies, regenerative agriculture stands as a beacon of hope in the face of environmental degradation caused by traditional farming methods.\n",
      "\n",
      "Key Principles and Techniques:\n",
      "1. Soil Health Restoration: Regenerative agriculture focuses on rebuilding soil health through practices like minimal tillage, cover cropping, and crop rotation, promoting nutrient-rich soil for sustainable farming.\n",
      "2. Carbon Sequestration: By sequestering carbon in the soil and reducing greenhouse gas emissions, regenerative agriculture plays a crucial role in combating climate change.\n",
      "3. Biodiversity Conservation: Through the preservation of natural habitats and restoration of biodiversity, regenerative agriculture fosters a thriving ecosystem that benefits both flora and fauna.\n",
      "4. Water Resource Protection: With a focus on water conservation and efficient irrigation practices, regenerative agriculture ensures the sustainable use of this vital resource.\n",
      "5. Profitability and Productivity: Contrary to the misconception that sustainable practices hinder profitability, regenerative agriculture enhances farm productivity and profitability over the long term.\n",
      "\n",
      "Benefits and Goals:\n",
      "- Producing Nutritious Food: Regenerative agriculture aims to meet the global demand for nutritious food while prioritizing the health of the soil and ecosystem.\n",
      "- Climate Change Mitigation: By sequestering carbon in the soil, regenerative agriculture contributes to reducing greenhouse gas emissions and enhancing climate resilience.\n",
      "- Biodiversity Enhancement: Through the restoration of biodiversity and natural habitats, regenerative agriculture safeguards endangered species and promotes ecosystem balance.\n",
      "- Deforestation Prevention: By optimizing productivity on existing farmland, regenerative agriculture helps prevent further deforestation and grassland conversion.\n",
      "- Farmer Livelihoods: Enhancing farmer livelihoods is at the core of regenerative agriculture, ensuring that farmers can prosper while stewarding the land for future generations.\n",
      "\n",
      "Conclusion:\n",
      "In a world where sustainability is paramount, regenerative agriculture emerges as a beacon of hope, offering a path towards a more resilient and prosperous future for both farmers and investors. By embracing the principles and practices of regenerative agriculture, stakeholders can not only drive positive environmental change but also reap the rewards of a thriving and sustainable agricultural sector. Join the regenerative agriculture movement today and be a part of the transformative journey towards a greener tomorrow.\n"
     ]
    }
   ],
   "source": [
    "output=runnable.invoke({\"target_audience\":['Farmer', 'investor'], \"text\":text})\n",
    "print(output.content)"
   ]
  }
 ],
 "metadata": {
  "kernelspec": {
   "display_name": "autogen",
   "language": "python",
   "name": "python3"
  },
  "language_info": {
   "codemirror_mode": {
    "name": "ipython",
    "version": 3
   },
   "file_extension": ".py",
   "mimetype": "text/x-python",
   "name": "python",
   "nbconvert_exporter": "python",
   "pygments_lexer": "ipython3",
   "version": "3.10.10"
  }
 },
 "nbformat": 4,
 "nbformat_minor": 2
}
