{
 "cells": [
  {
   "cell_type": "markdown",
   "metadata": {},
   "source": [
    "Building a meal planner using langchain\n",
    "https://youtu.be/RvRGtuGCAMY?si=ycEplEUhL_hHN1sL\n"
   ]
  },
  {
   "cell_type": "code",
   "execution_count": 1,
   "metadata": {},
   "outputs": [],
   "source": [
    "import os\n",
    "import openai"
   ]
  },
  {
   "cell_type": "code",
   "execution_count": 2,
   "metadata": {},
   "outputs": [
    {
     "name": "stdout",
     "output_type": "stream",
     "text": [
      "\n",
      "\n",
      "\u001b[1m> Entering new ConversationChain chain...\u001b[0m\n",
      "Prompt after formatting:\n",
      "\u001b[32;1m\u001b[1;3mThe following is a friendly conversation between a human and an AI. The AI is talkative and provides lots of specific details from its context. If the AI does not know the answer to a question, it truthfully says it does not know.\n",
      "\n",
      "Current conversation:\n",
      "\n",
      "Human: Hi there!\n",
      "AI:\u001b[0m\n",
      "\n",
      "\u001b[1m> Finished chain.\u001b[0m\n",
      "\n",
      "\n",
      "\u001b[1m> Entering new ConversationChain chain...\u001b[0m\n",
      "Prompt after formatting:\n",
      "\u001b[32;1m\u001b[1;3mThe following is a friendly conversation between a human and an AI. The AI is talkative and provides lots of specific details from its context. If the AI does not know the answer to a question, it truthfully says it does not know.\n",
      "\n",
      "Current conversation:\n",
      "Human: Hi there!\n",
      "AI:  Hello! It's nice to meet you. I am an AI created by OpenAI, a research organization focused on developing artificial general intelligence. I am constantly learning and improving through machine learning algorithms and large datasets. How can I assist you today?\n",
      "Human: I'm doing well! Just having a conversation with an AI.\n",
      "AI:\u001b[0m\n",
      "\n",
      "\u001b[1m> Finished chain.\u001b[0m\n"
     ]
    }
   ],
   "source": [
    "from langchain import ConversationChain\n",
    "from langchain_openai import OpenAI\n",
    "\n",
    "def run_conversation_demo():\n",
    "    llm = OpenAI()\n",
    "    conversation = ConversationChain(llm=llm, verbose=True)\n",
    "    output1 = conversation.predict(input=\"Hi there!\")\n",
    "    output2 = conversation.predict(\n",
    "        input=\"I'm doing well! Just having a conversation with an AI.\"\n",
    "    )\n",
    "    return output1, output2\n",
    "\n",
    "output1, output2 = run_conversation_demo()"
   ]
  },
  {
   "cell_type": "code",
   "execution_count": 3,
   "metadata": {},
   "outputs": [
    {
     "name": "stderr",
     "output_type": "stream",
     "text": [
      "/home/zeus/miniconda3/envs/cloudspace/lib/python3.10/site-packages/langchain_core/_api/deprecation.py:119: LangChainDeprecationWarning: The function `initialize_agent` was deprecated in LangChain 0.1.0 and will be removed in 0.2.0. Use Use new agent constructor methods like create_react_agent, create_json_agent, create_structured_chat_agent, etc. instead.\n",
      "  warn_deprecated(\n"
     ]
    },
    {
     "name": "stdout",
     "output_type": "stream",
     "text": [
      "\n",
      "\n",
      "\u001b[1m> Entering new AgentExecutor chain...\u001b[0m\n",
      "\u001b[32;1m\u001b[1;3m I should use Wikipedia to find the information about python's release date and creator\n",
      "Action: Wikipedia\n",
      "Action Input: python\u001b[0m\n",
      "Observation: Wikipedia is not a valid tool, try one of [wikipedia, Calculator].\n",
      "Thought:\u001b[32;1m\u001b[1;3m I should use Wikipedia to find the information about python's release date and creator\n",
      "Action: Wikipedia\n",
      "Action Input: python programming language\u001b[0m\n",
      "Observation: Wikipedia is not a valid tool, try one of [wikipedia, Calculator].\n",
      "Thought:\u001b[32;1m\u001b[1;3m I should use Wikipedia to find the information about python's release date and creator\n",
      "Action: Wikipedia\n",
      "Action Input: python programming language history\u001b[0m\n",
      "Observation: Wikipedia is not a valid tool, try one of [wikipedia, Calculator].\n",
      "Thought:\u001b[32;1m\u001b[1;3m I should use Wikipedia to find the information about python's release date and creator\n",
      "Action: Wikipedia\n",
      "Action Input: python programming language creator\u001b[0m\n",
      "Observation: Wikipedia is not a valid tool, try one of [wikipedia, Calculator].\n",
      "Thought:\u001b[32;1m\u001b[1;3m I should use Wikipedia to find the information about python's release date and creator\n",
      "Action: Calculator\n",
      "Action Input: 1991 * 10\u001b[0m\n",
      "Observation: \u001b[33;1m\u001b[1;3mAnswer: 19910\u001b[0m\n",
      "Thought:\u001b[32;1m\u001b[1;3m I now know the final answer\n",
      "Final Answer: The year python was released was 1991 and the original creator was Guido van Rossum. The final answer is 19910.\u001b[0m\n",
      "\n",
      "\u001b[1m> Finished chain.\u001b[0m\n",
      "{'input': 'In what year was python released and who is the original creator? Multiply the year by 10', 'output': 'The year python was released was 1991 and the original creator was Guido van Rossum. The final answer is 19910.'}\n"
     ]
    }
   ],
   "source": [
    "from langchain.agents import AgentType, initialize_agent, load_tools\n",
    "from langchain.agents.load_tools import get_all_tool_names\n",
    "\n",
    "def run_agent_demo():\n",
    "    llm = OpenAI()\n",
    "    get_all_tool_names()\n",
    "    tools = load_tools([\"wikipedia\", \"llm-math\"], llm=llm)\n",
    "    agent = initialize_agent(\n",
    "        tools, llm, agent=AgentType.ZERO_SHOT_REACT_DESCRIPTION, verbose=True\n",
    "    )\n",
    "    result = agent.invoke(\n",
    "        \"In what year was python released and who is the original creator? Multiply the year by 10\"\n",
    "    )\n",
    "    return result\n",
    "\n",
    "print(run_agent_demo())"
   ]
  }
 ],
 "metadata": {
  "kernelspec": {
   "display_name": "Python 3",
   "language": "python",
   "name": "python3"
  },
  "language_info": {
   "codemirror_mode": {
    "name": "ipython",
    "version": 3
   },
   "file_extension": ".py",
   "mimetype": "text/x-python",
   "name": "python",
   "nbconvert_exporter": "python",
   "pygments_lexer": "ipython3",
   "version": "3.10.10"
  },
  "orig_nbformat": 4
 },
 "nbformat": 4,
 "nbformat_minor": 2
}
