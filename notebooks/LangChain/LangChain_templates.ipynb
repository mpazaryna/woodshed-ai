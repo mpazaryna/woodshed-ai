{
 "cells": [
  {
   "cell_type": "code",
   "execution_count": 32,
   "metadata": {},
   "outputs": [],
   "source": [
    "from langchain.prompts import ChatPromptTemplate\n",
    "from langchain.chat_models import ChatOpenAI\n",
    "\n",
    "# Initialize the ChatOpenAI model\n",
    "chat = ChatOpenAI()\n",
    "\n",
    "travel_variables = [\n",
    "    {\"city_name\": \"Paris\", \"interest\": \"Renaissance art and museums\", \"stay_duration\": \"4 days\", \"budget\": \"3000\"},\n",
    "    {\"city_name\": \"Tokyo\", \"interest\": \"modern technology and gadget shopping\", \"stay_duration\": \"1 week\", \"budget\": \"1500\"},\n",
    "    {\"city_name\": \"Cairo\", \"interest\": \"ancient pyramids and Egyptian history\", \"stay_duration\": \"3 days\", \"budget\": \"500\"},\n",
    "    {\"city_name\": \"Sydney\", \"interest\": \"coastal hikes and famous landmarks\", \"stay_duration\": \"5 days\", \"budget\": \"2500\"},\n",
    "    {\"city_name\": \"Rio de Janeiro\", \"interest\": \"vibrant street festivals and samba dancing\", \"stay_duration\": \"2 days\", \"budget\": \"800\"},\n",
    "    {\"city_name\": \"New York City\", \"interest\": \"Broadway shows and urban exploration\", \"stay_duration\": \"1 week\", \"budget\": \"2000\"},\n",
    "    {\"city_name\": \"Bangkok\", \"interest\": \"street food markets and Thai culinary experiences\", \"stay_duration\": \"3 days\", \"budget\": \"1200\"},\n",
    "    {\"city_name\": \"Venice\", \"interest\": \"gondola rides and historic architecture\", \"stay_duration\": \"4 days\", \"budget\": \"1800\"},\n",
    "    {\"city_name\": \"Cape Town\", \"interest\": \"mountain hiking and scenic coastal views\", \"stay_duration\": \"1 week\", \"budget\": \"900\"},\n",
    "    {\"city_name\": \"Beijing\", \"interest\": \"Imperial history and traditional Chinese culture\", \"stay_duration\": \"6 days\", \"budget\": \"2200\"},\n",
    "    {\"city_name\": \"Annapolis\", \"interest\": \"Sailing and casual dining\", \"stay_duration\": \"3 days\", \"budget\": \"900\"},\n",
    "    {\"city_name\": \"Knoxville, TN\", \"interest\": \"Hiking, casual dining, vintage antiques\", \"stay_duration\": \"3 days\", \"budget\": \"500\"},\n",
    "     \n",
    "]\n",
    "\n",
    "def create_tourist_guide_template():\n",
    "    tourist_guide_string = \"\"\"Create a travel plan for {city_name} \\\n",
    "    for someone interested in {interest}, \\\n",
    "    staying for {stay_duration}, \\\n",
    "    and having a {budget} budget.\"\"\"\n",
    "    \n",
    "    return ChatPromptTemplate.from_template(tourist_guide_string)\n",
    "\n",
    "def get_travel_data_by_city(city_name, travel_data):\n",
    "    for item in travel_data:\n",
    "        if item[\"city_name\"].lower() == city_name.lower():\n",
    "            return item\n",
    "    return None\n",
    "\n",
    "def generate_travel_plan(city_name, travel_data, chat_model):\n",
    "    template = create_tourist_guide_template()\n",
    "    city_data = get_travel_data_by_city(city_name, travel_data)\n",
    "    \n",
    "    if city_data is None:\n",
    "        return f\"No travel data found for {city_name}\"\n",
    "    \n",
    "    tourist_guide_messages = template.format_messages(\n",
    "        city_name=city_data[\"city_name\"],\n",
    "        interest=city_data[\"interest\"],\n",
    "        stay_duration=city_data[\"stay_duration\"],\n",
    "        budget=city_data[\"budget\"]\n",
    "    )\n",
    "    \n",
    "    response = chat_model(tourist_guide_messages)\n",
    "    return response.content\n",
    "\n"
   ]
  },
  {
   "cell_type": "code",
   "execution_count": 31,
   "metadata": {},
   "outputs": [
    {
     "name": "stdout",
     "output_type": "stream",
     "text": [
      "Travel Plan for Annapolis:\n",
      "Day 1:\n",
      "- Arrive in Annapolis and check into a cozy bed and breakfast in the historic district ($200)\n",
      "- Grab lunch at a casual seafood restaurant overlooking the harbor ($30)\n",
      "- Take a walking tour of the historic district and visit the Naval Academy ($20)\n",
      "- Enjoy a sunset sailing cruise on the Chesapeake Bay ($150)\n",
      "- Have dinner at a waterfront restaurant with fresh seafood and local cuisine ($50)\n",
      "\n",
      "Day 2:\n",
      "- Start the day with a leisurely breakfast at a local cafe ($15)\n",
      "- Rent a sailboat for the day and explore the beautiful waters of the Chesapeake Bay ($300)\n",
      "- Pack a picnic lunch to enjoy on board the sailboat ($20)\n",
      "- Return to shore and relax at a local beach or waterfront park ($10)\n",
      "- Have dinner at a popular seafood restaurant known for its crab cakes ($50)\n",
      "\n",
      "Day 3:\n",
      "- Grab breakfast at a charming cafe in downtown Annapolis ($15)\n",
      "- Take a sailing lesson with a local instructor to improve your skills ($200)\n",
      "- Explore the shops and boutiques in downtown Annapolis for unique souvenirs ($50)\n",
      "- Have lunch at a casual waterfront restaurant with outdoor seating ($30)\n",
      "- Depart Annapolis feeling refreshed and rejuvenated from your sailing adventure ($300)\n",
      "\n",
      "Total Cost: $1,020\n",
      "\n",
      "With a budget of $900, consider cutting costs by opting for more budget-friendly accommodations, dining at more affordable restaurants, or skipping some of the optional activities. Additionally, look for discounts or deals on sailing excursions and tours to help stay within your budget.\n"
     ]
    }
   ],
   "source": [
    "# Example usage\n",
    "chosen_city = \"Annapolis\"  # You can change this to any city in the travel_variables list\n",
    "travel_plan = generate_travel_plan(chosen_city, travel_variables, chat)\n",
    "print(f\"Travel Plan for {chosen_city}:\")\n",
    "print(travel_plan)"
   ]
  },
  {
   "cell_type": "code",
   "execution_count": 33,
   "metadata": {},
   "outputs": [
    {
     "name": "stdout",
     "output_type": "stream",
     "text": [
      "Travel Plan for Knoxville, TN:\n",
      "Day 1: \n",
      "- Arrive in Knoxville and check into a budget-friendly hotel or Airbnb.\n",
      "- Head to the Urban Wilderness, a network of hiking and biking trails within the city. Spend the morning exploring the trails and taking in the beautiful scenery.\n",
      "- For lunch, grab a casual meal at Stock & Barrel, a popular burger joint in downtown Knoxville.\n",
      "- In the afternoon, browse the vintage antique shops in the Old City neighborhood. Check out Rala for unique finds.\n",
      "- For dinner, dine at Sunspot, a relaxed restaurant with a diverse menu and outdoor seating.\n",
      "- Total cost for Day 1: $150\n",
      "\n",
      "Day 2:\n",
      "- Enjoy breakfast at OliBea, a cozy restaurant known for its delicious brunch options.\n",
      "- Spend the day hiking in the Great Smoky Mountains National Park, located just a short drive from Knoxville. Choose a trail that fits your skill level and enjoy the stunning views.\n",
      "- For lunch, pack a picnic to enjoy on the trail or stop by a local deli for grab-and-go sandwiches.\n",
      "- After a day of hiking, relax with dinner at Sweet P's BBQ, a popular spot for classic Southern barbecue.\n",
      "- Total cost for Day 2: $200\n",
      "\n",
      "Day 3:\n",
      "- Start your day with breakfast at Pete's Coffee Shop, a local favorite known for its hearty breakfast options.\n",
      "- Visit the Knoxville Museum of Art to explore the rotating exhibits and learn more about the local art scene.\n",
      "- For lunch, head to Tomato Head, a casual restaurant serving up delicious pizzas and sandwiches.\n",
      "- Spend the afternoon exploring Market Square, a vibrant area with shops, cafes, and street performers.\n",
      "- Before leaving Knoxville, grab dinner at Tupelo Honey, a Southern-inspired restaurant with a cozy atmosphere.\n",
      "- Total cost for Day 3: $150\n",
      "\n",
      "Total estimated cost for 3 days in Knoxville: $500\n",
      "\n",
      "Note: Prices may vary depending on individual preferences and additional activities. It's always a good idea to budget extra for unexpected expenses.\n"
     ]
    }
   ],
   "source": [
    "# Example usage\n",
    "chosen_city = \"Knoxville, TN\"  # You can change this to any city in the travel_variables list\n",
    "travel_plan = generate_travel_plan(chosen_city, travel_variables, chat)\n",
    "print(f\"Travel Plan for {chosen_city}:\")\n",
    "print(travel_plan)"
   ]
  }
 ],
 "metadata": {
  "kernelspec": {
   "display_name": "autogen",
   "language": "python",
   "name": "python3"
  },
  "language_info": {
   "codemirror_mode": {
    "name": "ipython",
    "version": 3
   },
   "file_extension": ".py",
   "mimetype": "text/x-python",
   "name": "python",
   "nbconvert_exporter": "python",
   "pygments_lexer": "ipython3",
   "version": "3.10.10"
  }
 },
 "nbformat": 4,
 "nbformat_minor": 2
}
