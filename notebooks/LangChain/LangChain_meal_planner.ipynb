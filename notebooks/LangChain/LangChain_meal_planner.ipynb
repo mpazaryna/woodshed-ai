{
 "cells": [
  {
   "cell_type": "markdown",
   "metadata": {},
   "source": [
    "Building a meal planner using langchain\n",
    "https://youtu.be/RvRGtuGCAMY?si=ycEplEUhL_hHN1sL\n"
   ]
  },
  {
   "cell_type": "code",
   "execution_count": 1,
   "metadata": {},
   "outputs": [
    {
     "data": {
      "text/plain": [
       "\"Chicken and Rice Stir-Fry\\n\\nIngredients: \\n- 2 chicken breasts\\n- 1 cup of rice\\n- 1 red bell pepper\\n- 1 green bell pepper\\n- 2 tablespoons of soy sauce\\n- 2 tablespoons of vegetable oil\\n- Salt and pepper to taste\\n\\nInstructions:\\n1. Cook the rice according to the package instructions and set aside.\\n2. Cut the chicken breasts into bite-sized pieces. Season with salt and pepper.\\n3. Heat the oil in a large pan or wok over medium-high heat. Add the chicken pieces and cook until browned and cooked through. Remove the chicken from the pan and set aside.\\n4. In the same pan, add the sliced peppers and cook until they're softened.\\n5. Return the chicken to the pan, add the cooked rice and soy sauce. Stir everything together until well combined and heated through.\\n6. Serve the chicken and rice stir-fry hot. Enjoy your meal!\""
      ]
     },
     "execution_count": 1,
     "metadata": {},
     "output_type": "execute_result"
    }
   ],
   "source": [
    "from langchain_core.output_parsers import StrOutputParser\n",
    "from langchain_core.prompts import ChatPromptTemplate\n",
    "from langchain_openai import ChatOpenAI\n",
    "\n",
    "prompt = ChatPromptTemplate.from_template(\"Give me an example of a meal that can be made using {ingredients}\")\n",
    "model = ChatOpenAI(model=\"gpt-4\")\n",
    "output_parser = StrOutputParser()\n",
    "\n",
    "chain = prompt | model | output_parser\n",
    "chain.invoke({\"ingredients\": \"rice,chicken,peppers\"})"
   ]
  }
 ],
 "metadata": {
  "kernelspec": {
   "display_name": "Python 3",
   "language": "python",
   "name": "python3"
  },
  "language_info": {
   "codemirror_mode": {
    "name": "ipython",
    "version": 3
   },
   "file_extension": ".py",
   "mimetype": "text/x-python",
   "name": "python",
   "nbconvert_exporter": "python",
   "pygments_lexer": "ipython3",
   "version": "3.10.10"
  },
  "orig_nbformat": 4
 },
 "nbformat": 4,
 "nbformat_minor": 2
}
