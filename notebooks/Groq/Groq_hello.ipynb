{
 "cells": [
  {
   "cell_type": "code",
   "execution_count": null,
   "metadata": {},
   "outputs": [],
   "source": [
    "import os\n",
    "\n",
    "from dotenv import find_dotenv, load_dotenv\n",
    "load_dotenv(find_dotenv())"
   ]
  },
  {
   "cell_type": "code",
   "execution_count": 1,
   "metadata": {},
   "outputs": [],
   "source": [
    "from groq import Groq\n",
    "\n",
    "# Constant  model\n",
    "MODEL_NAME = \"mixtral-8x7b-32768\"\n",
    "\n",
    "def get_chat_completion(content):\n",
    "    # Initialize Groq client\n",
    "    client = Groq()\n",
    "\n",
    "    # Create chat completion\n",
    "    chat_completion = client.chat.completions.create(\n",
    "        messages=[\n",
    "            {\n",
    "                \"role\": \"user\",\n",
    "                \"content\": content,\n",
    "            }\n",
    "        ],\n",
    "        model=MODEL_NAME,\n",
    "    )\n",
    "\n",
    "    # Return the content of the first choice\n",
    "    return chat_completion.choices[0].message.content\n",
    "\n"
   ]
  },
  {
   "cell_type": "code",
   "execution_count": 2,
   "metadata": {},
   "outputs": [
    {
     "name": "stdout",
     "output_type": "stream",
     "text": [
      "Pranayama is a Sanskrit word, which is derived from two words - \"prana\" meaning life force or vital energy and \"ayama\" meaning control or regulation. Pranayama, therefore, refers to the control or regulation of breath or life force. It is a practice that has been an integral part of yoga and meditation for thousands of years. Pranayama is considered to be one of the most important practices for maintaining physical, mental, and emotional health. Here are some of the reasons why pranayama is important:\n",
      "\n",
      "1. Increases Lung Capacity: Pranayama exercises involve deep, slow, and rhythmic breathing, which helps to increase the oxygen intake and improve the functioning of the lungs. This can help to alleviate respiratory conditions such as asthma, bronchitis, and emphysema.\n",
      "2. Reduces Stress and Anxiety: Pranayama is a powerful tool for managing stress and anxiety. By focusing on the breath, pranayama helps to calm the mind and reduce the production of stress hormones such as cortisol and adrenaline.\n",
      "3. Improves Concentration and Focus: Pranayama helps to improve concentration and focus by increasing the flow of oxygen to the brain. This can help to improve cognitive function, memory, and creativity.\n",
      "4. Boosts Immune System: Pranayama helps to boost the immune system by increasing the production of white blood cells and reducing inflammation. This can help to prevent illness and promote overall health and wellbeing.\n",
      "5. Balances Nervous System: Pranayama helps to balance the nervous system by stimulating the parasympathetic nervous system, which is responsible for the \"rest and digest\" response. This can help to reduce symptoms of anxiety, depression, and insomnia.\n",
      "6. Increases Energy Levels: Pranayama helps to increase energy levels by increasing the flow of prana or life force through the body. This can help to reduce fatigue and improve overall vitality.\n",
      "7. Promotes Emotional Balance: Pranayama helps to promote emotional balance by regulating the flow of prana in the body. This can help to reduce negative emotions such as anger, frustration, and jealousy, and promote feelings of peace, happiness, and contentment.\n",
      "8. Prepares the Mind for Meditation: Pranayama is often used as a preparation for meditation, as it helps to calm the mind and prepare it for concentration. By focusing on the breath, pranayama helps to still the mind and create a sense of inner peace and tranquility.\n",
      "\n",
      "In conclusion, pranayama is an important practice for maintaining physical, mental, and emotional health. By regulating the breath, pranayama helps to improve lung capacity, reduce stress and anxiety, improve concentration and focus, boost the immune system, balance the nervous system, increase energy levels, promote emotional balance, and prepare the mind for meditation. Practicing pranayama regularly can help to promote overall health, wellbeing, and happiness.\n"
     ]
    }
   ],
   "source": [
    "print(get_chat_completion(\"Explain the importance of pranayama\"))"
   ]
  },
  {
   "cell_type": "markdown",
   "metadata": {},
   "source": [
    "# Pytest\n",
    "\n",
    "You can use ipytest in a notebook to test."
   ]
  },
  {
   "cell_type": "code",
   "execution_count": 3,
   "metadata": {},
   "outputs": [
    {
     "name": "stdout",
     "output_type": "stream",
     "text": [
      "\u001b[32m.\u001b[0m\u001b[33m                                                                                            [100%]\u001b[0m\n",
      "\u001b[33m========================================= warnings summary =========================================\u001b[0m\n",
      "../../../home/zeus/miniconda3/envs/cloudspace/lib/python3.10/site-packages/_pytest/config/__init__.py:1285\n",
      "  /home/zeus/miniconda3/envs/cloudspace/lib/python3.10/site-packages/_pytest/config/__init__.py:1285: PytestAssertRewriteWarning: Module already imported so cannot be rewritten: anyio\n",
      "    self._mark_plugins_for_rewrite(hook)\n",
      "\n",
      "-- Docs: https://docs.pytest.org/en/stable/how-to/capture-warnings.html\n"
     ]
    },
    {
     "data": {
      "text/plain": [
       "<ExitCode.OK: 0>"
      ]
     },
     "execution_count": 3,
     "metadata": {},
     "output_type": "execute_result"
    }
   ],
   "source": [
    "import ipytest\n",
    "ipytest.autoconfig()\n",
    "\n",
    "def test_get_chat_completion():\n",
    "    result = get_chat_completion(\"Explain the importance of pranayama\")\n",
    "    assert isinstance(result, str)\n",
    "\n",
    "ipytest.run('-qq')"
   ]
  },
  {
   "cell_type": "markdown",
   "metadata": {},
   "source": [
    "# Refactor 1\n",
    "\n",
    "Allow the user to select from a list of models."
   ]
  },
  {
   "cell_type": "code",
   "execution_count": 23,
   "metadata": {},
   "outputs": [
    {
     "name": "stdout",
     "output_type": "stream",
     "text": [
      "Please select a model:\n",
      "1. mixtral-8x7b-32768\n",
      "2. llama3-8b-8192\n",
      "3. gemma-7b-it\n",
      "**Yoga** is a holistic practice that combines physical postures (asana), breathing techniques (pranayama), and meditation to cultivate physical and mental well-being.\n",
      "\n",
      "**Origins:**\n",
      "\n",
      "* Originated in ancient India in the Indus Valley Civilization (3000-1500 BC)\n",
      "* Developed over centuries by various Indian philosophers and teachers\n",
      "* Became a global phenomenon in the 20th century\n",
      "\n",
      "**Components of Yoga:**\n",
      "\n",
      "* **Asana (Physical postures)**: Sequences of poses that improve flexibility, strength, and balance.\n",
      "* **Pranayama (Breathing techniques)**: Techniques for controlling and expanding the breath, promoting relaxation and energy.\n",
      "* **Meditation**: Practices to quiet the mind, reduce stress, and cultivate awareness.\n",
      "\n",
      "**Types of Yoga:**\n",
      "\n",
      "* Hatha Yoga: Focuses on physical postures and breathing techniques.\n",
      "* Vinyasa Yoga: Dynamically linked sequences of poses.\n",
      "* Ashtanga Yoga: Structured series of poses in eight stages.\n",
      "* Iyengar Yoga: Emphasis on precise alignment and alignment cues.\n",
      "* Kundalini Yoga: Focuses on spiritual growth and energy activation.\n",
      "\n",
      "**Benefits of Yoga:**\n",
      "\n",
      "* Increased flexibility and mobility\n",
      "* Improved strength and balance\n",
      "* Reduced stress and anxiety\n",
      "* Enhanced mindfulness and concentration\n",
      "* Improved sleep quality\n",
      "* Reduced pain and stiffness\n",
      "* Increased energy and vitality\n",
      "\n",
      "**Philosophy of Yoga:**\n",
      "\n",
      "Yoga is based on the principle of non-duality, seeking to transcend the separation between the mind and body. It emphasizes:\n",
      "\n",
      "* **Ahimsa (non-violence)**: Respect for all living things.\n",
      "* **Satya (truthfulness)**: Honesty and authenticity.\n",
      "* **Asteya (non-stealing)**: Respect for the possessions and accomplishments of others.\n",
      "* **Brahmacharya (self-discipline)**: Moderation and self-control.\n",
      "* **Aparigraha (non-attachment)**: Letting go of material possessions and desires.\n"
     ]
    }
   ],
   "source": [
    "from groq import Groq\n",
    "\n",
    "def get_chat_completion():\n",
    "    # List of available models\n",
    "    models = [\"mixtral-8x7b-32768\", \"llama3-8b-8192\", \"gemma-7b-it\"]\n",
    "\n",
    "    # Ask the user to select a model\n",
    "    print(\"Please select a model:\")\n",
    "    for i, model in enumerate(models, start=1):\n",
    "        print(f\"{i}. {model}\")\n",
    "    model_index = int(input(\"Enter the number of the model: \")) - 1\n",
    "    model_name = models[model_index]\n",
    "\n",
    "    # Ask the user to input a question\n",
    "    content = input(\"Enter your question: \")\n",
    "\n",
    "    # Initialize Groq client\n",
    "    client = Groq()\n",
    "\n",
    "    # Create chat completion\n",
    "    chat_completion = client.chat.completions.create(\n",
    "        messages=[\n",
    "            {\n",
    "                \"role\": \"user\",\n",
    "                \"content\": content,\n",
    "            }\n",
    "        ],\n",
    "        model=model_name,\n",
    "    )\n",
    "\n",
    "    # Return the content of the first choice\n",
    "    return chat_completion.choices[0].message.content\n",
    "\n",
    "# Usage\n",
    "print(get_chat_completion())"
   ]
  },
  {
   "cell_type": "markdown",
   "metadata": {},
   "source": [
    "# Refactor 2 \n",
    "\n",
    "Write the chat completion to disk."
   ]
  },
  {
   "cell_type": "code",
   "execution_count": null,
   "metadata": {},
   "outputs": [],
   "source": [
    "from groq import Groq\n",
    "import os\n",
    "\n",
    "def get_chat_completion():\n",
    "    # List of available models\n",
    "    models = [\"llama3-8b-8192\", \"llama3-70b-8192\", \"mixtral-8x7b-32768\",\"gemma-7b-it\"]\n",
    "\n",
    "    # Ask the user to select a model\n",
    "    print(\"Please select a model:\")\n",
    "    for i, model in enumerate(models, start=1):\n",
    "        print(f\"{i}. {model}\")\n",
    "    model_index = int(input(\"Enter the number of the model: \")) - 1\n",
    "    model_name = models[model_index]\n",
    "\n",
    "    # Ask the user to input a question\n",
    "    content = input(\"Enter your question: \")\n",
    "\n",
    "    # Initialize Groq client\n",
    "    client = Groq()\n",
    "\n",
    "    # Create chat completion\n",
    "    chat_completion = client.chat.completions.create(\n",
    "        messages=[\n",
    "            {\n",
    "                \"role\": \"user\",\n",
    "                \"content\": content,\n",
    "            }\n",
    "        ],\n",
    "        model=model_name,\n",
    "    )\n",
    "\n",
    "    # Get the content of the first choice\n",
    "    completion_content = chat_completion.choices[0].message.content\n",
    "\n",
    "    # Print the completion to the terminal\n",
    "    print(completion_content)\n",
    "\n",
    "    # Get the current working directory\n",
    "    current_dir = os.getcwd()\n",
    "\n",
    "    # Write the model name and the completion to a text file in the current directory\n",
    "    with open(os.path.join(current_dir, \"chat_completion.txt\"), \"w\") as file:\n",
    "        file.write(f\"# Model: {model_name}\\n\")\n",
    "        file.write(completion_content)\n",
    "\n",
    "# Usage\n",
    "get_chat_completion()"
   ]
  }
 ],
 "metadata": {
  "kernelspec": {
   "display_name": "rei-matchmake",
   "language": "python",
   "name": "python3"
  },
  "language_info": {
   "codemirror_mode": {
    "name": "ipython",
    "version": 3
   },
   "file_extension": ".py",
   "mimetype": "text/x-python",
   "name": "python",
   "nbconvert_exporter": "python",
   "pygments_lexer": "ipython3",
   "version": "3.10.10"
  }
 },
 "nbformat": 4,
 "nbformat_minor": 2
}
